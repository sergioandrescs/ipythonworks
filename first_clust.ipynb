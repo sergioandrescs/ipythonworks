{
 "metadata": {
  "name": "",
  "signature": "sha256:38a456075def349a90d5693e02e6c2697592b6fd13c2ca68a4ca2b7247a70d83"
 },
 "nbformat": 3,
 "nbformat_minor": 0,
 "worksheets": [
  {
   "cells": [
    {
     "cell_type": "code",
     "collapsed": false,
     "input": [
      "%pylab inline\n",
      "data= loadtxt('first_clust.dat')\n",
      "clust=2\n",
      "cl=[]\n",
      "color ='rgby'\n",
      "count=0\n",
      "center=[]\n",
      "a=[]\n",
      "for i in range(len(data[:,0])):\n",
      "    cl.append([])\n",
      "    cl[count].append(data[i,0])\n",
      "    cl[count].append(data[i,1])\n",
      "    cl[count].append(color[i%clust])\n",
      "    count+=1\n",
      "    scatter(cl[i][0],cl[i][1], c=cl[i][2])\n",
      "\n",
      "count=0    \n",
      "    \n",
      "for i in range(len(data[:,0])):\n",
      "    \n",
      "    \n",
      "        if(cl[i][2]==color[0]):\n",
      "            a.append([])\n",
      "            a[count].append(cl[i][0])\n",
      "            a[count].append(cl[i][1])\n",
      "            count+=1\n",
      "\n",
      "\n",
      "        #s1=sqrt(((data[i,0]-center[0,0])**2)+(data[i,1]-center[0,1])**2)\n",
      "        #s2=sqrt(((data[i,0]-center[1,0])**2)+(data[i,1]-center[1,1])**2)\n",
      "    \n"
     ],
     "language": "python",
     "metadata": {},
     "outputs": [
      {
       "output_type": "stream",
       "stream": "stdout",
       "text": [
        "Populating the interactive namespace from numpy and matplotlib\n"
       ]
      },
      {
       "metadata": {},
       "output_type": "display_data",
       "png": "[encoded data removed]",
       "text": [
        "<matplotlib.figure.Figure at 0x4e74d90>"
       ]
      }
     ],
     "prompt_number": 131
    },
    {
     "cell_type": "code",
     "collapsed": false,
     "input": [],
     "language": "python",
     "metadata": {},
     "outputs": [],
     "prompt_number": 69
    },
    {
     "cell_type": "code",
     "collapsed": false,
     "input": [],
     "language": "python",
     "metadata": {},
     "outputs": []
    }
   ],
   "metadata": {}
  }
 ]
}