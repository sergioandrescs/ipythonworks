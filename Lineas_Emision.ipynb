{
 "metadata": {
  "name": "",
  "signature": "sha256:f8f9f8df24cdbfeb659c766eef146486969cc32c3f8b12d71c0593d4170219e6"
 },
 "nbformat": 3,
 "nbformat_minor": 0,
 "worksheets": [
  {
   "cells": [
    {
     "cell_type": "markdown",
     "metadata": {},
     "source": [
      "1. Lineas de emisi\u00f3n.\n",
      "El siguiente codigo aplica el algoritmo Metropolis-Hastings para estimar los mejores parametros de caracterisaci\u00f3n de un sistema mediante una estimaci\u00f3n de par\u00e1metros bayesiana.\n",
      "\n",
      "Los datos usados estan en la siguiente direcci\u00f3n: https://raw.githubusercontent.com/forero/ComputationalMethodsData/master/homework/hw_8/energy_counts.dat\n"
     ]
    },
    {
     "cell_type": "code",
     "collapsed": false,
     "input": [
      "#Inicialmente, se cargan los datos de un archivo llamado energy_counts.dat\n",
      "\n",
      "%pylab inline\n",
      "data = loadtxt(\"energy_counts.dat\")\n",
      "\n",
      "x_data = data[:,0]/1000\n",
      "y_data = data[:,1]/1000\n",
      "plot (x_data,y_data)"
     ],
     "language": "python",
     "metadata": {},
     "outputs": [
      {
       "output_type": "stream",
       "stream": "stdout",
       "text": [
        "Populating the interactive namespace from numpy and matplotlib\n"
       ]
      },
      {
       "output_type": "stream",
       "stream": "stderr",
       "text": [
        "WARNING: pylab import has clobbered these variables: ['beta', 'test']\n",
        "`%pylab --no-import-all` prevents importing * from pylab and numpy\n"
       ]
      },
      {
       "metadata": {},
       "output_type": "pyout",
       "prompt_number": 179,
       "text": [
        "[<matplotlib.lines.Line2D at 0x858fbd0>]"
       ]
      },
      {
       "metadata": {},
       "output_type": "display_data",
       "png": "[encoded data removed]",
       "text": [
        "<matplotlib.figure.Figure at 0x7aa70d0>"
       ]
      }
     ],
     "prompt_number": 179
    },
    {
     "cell_type": "code",
     "collapsed": false,
     "input": [
      "#Se usara la similitud en los datos para la estimaci\u00f3n de dichos par\u00e1metros. \n",
      "#Aqui se define la func\u00f3n que calcula dicha similitud\n",
      "def likelihood (data, modelo):\n",
      "    chi_cua = (1.0/2.0)*sum((data-modelo)**2)\n",
      "    return exp(-chi_cua)"
     ],
     "language": "python",
     "metadata": {},
     "outputs": [],
     "prompt_number": 180
    },
    {
     "cell_type": "code",
     "collapsed": false,
     "input": [
      "#Tambien se define el modelo que se considera para caracterisar el sistema\n",
      "def modelo(x, A, B, E0, sigma, alpha ):\n",
      "    result = (A*(x**alpha)) + (B*exp(-((x-E0)/(sigma*sqrt(2.0)))**2))\n",
      "    return result"
     ],
     "language": "python",
     "metadata": {},
     "outputs": [],
     "prompt_number": 181
    },
    {
     "cell_type": "code",
     "collapsed": false,
     "input": [
      "#Se crean listas que sigan todos los pasos de la soluci\u00f3n\n",
      "A_list = []\n",
      "B_list = []\n",
      "E0_list = []\n",
      "sigma_list = []\n",
      "alpha_list = []\n",
      "#La lista like_list contendr\u00e1 la similitud en cada paso y servira para determinar el mejor grupo de par\u00e1metros\n",
      "like_list = []\n",
      "\n",
      "#Se inicializan las listas con un n\u00famero aleat\u00f3rio\n",
      "A_list.append(random.random())\n",
      "B_list.append(random.random())\n",
      "E0_list.append(random.random())\n",
      "sigma_list.append(random.random())\n",
      "alpha_list.append(random.random())\n",
      "\n",
      "y_init = modelo(x_data, A_list[0], B_list[0], E0_list[0], sigma_list[0], alpha_list[0])\n",
      "\n",
      "like_list.append(likelihood(y_data, y_init))"
     ],
     "language": "python",
     "metadata": {},
     "outputs": [],
     "prompt_number": 182
    },
    {
     "cell_type": "code",
     "collapsed": false,
     "input": [
      "#Se usa el algoritmo Metropolis-Hastings\n",
      "iterations = 50000\n",
      "for i in range (iterations):\n",
      "    A_prima = random.normal(A_list[i],1)\n",
      "    B_prima = random.normal(B_list[i],1)\n",
      "    E0_prima = random.normal(E0_list[i],1)\n",
      "    sigma_prima = random.normal(sigma_list[i],1)\n",
      "    alpha_prima = random.normal(alpha_list[i],1)\n",
      "    \n",
      "    y_init = modelo(x_data, A_list[i], B_list[i], E0_list[i], sigma_list[i], alpha_list[i])\n",
      "    y_prima = modelo(x_data, A_prima, B_prima, E0_prima, sigma_prima, alpha_prima)\n",
      "    \n",
      "    l_prima = likelihood(y_data,y_prima)\n",
      "    l_init = likelihood(y_data,y_init)\n",
      "    \n",
      "    test = (l_prima/l_init)\n",
      "    \n",
      "    if (test>=1.0):\n",
      "        A_list.append(A_prima)\n",
      "        B_list.append(B_prima)\n",
      "        E0_list.append(E0_prima)\n",
      "        sigma_list.append(sigma_prima)\n",
      "        alpha_list.append(alpha_prima)\n",
      "        like_list.append(l_prima)\n",
      "    else:\n",
      "        beta = random.random()\n",
      "        if(beta<=test):\n",
      "            A_list.append(A_prima)\n",
      "            B_list.append(B_prima)\n",
      "            E0_list.append(E0_prima)\n",
      "            sigma_list.append(sigma_prima)\n",
      "            alpha_list.append(alpha_prima)\n",
      "            like_list.append(l_prima)\n",
      "        else:\n",
      "            A_list.append(A_list[i])\n",
      "            B_list.append(B_list[i])\n",
      "            E0_list.append(E0_list[i])\n",
      "            sigma_list.append(sigma_list[i])\n",
      "            alpha_list.append(alpha_list[i])\n",
      "            like_list.append(like_list[i])\n",
      "            \n",
      "        "
     ],
     "language": "python",
     "metadata": {},
     "outputs": [
      {
       "output_type": "stream",
       "stream": "stderr",
       "text": [
        "-c:16: RuntimeWarning: invalid value encountered in double_scalars\n",
        "-c:16: RuntimeWarning: divide by zero encountered in double_scalars\n"
       ]
      }
     ],
     "prompt_number": 183
    },
    {
     "cell_type": "code",
     "collapsed": false,
     "input": [
      "scatter(A_list, B_list)"
     ],
     "language": "python",
     "metadata": {},
     "outputs": [
      {
       "metadata": {},
       "output_type": "pyout",
       "prompt_number": 184,
       "text": [
        "<matplotlib.collections.PathCollection at 0x85aaa50>"
       ]
      },
      {
       "metadata": {},
       "output_type": "display_data",
       "png": "[encoded data removed]",
       "text": [
        "<matplotlib.figure.Figure at 0x82e0a90>"
       ]
      }
     ],
     "prompt_number": 184
    },
    {
     "cell_type": "code",
     "collapsed": false,
     "input": [
      "#Se obtinenen los par\u00e1metros un mayor similitud y se compara con el grupo de datos\n",
      "\n",
      "max_like = argmax(like_list)\n",
      "A_best = A_list[max_like]\n",
      "B_best = B_list[max_like]\n",
      "E0_best = E0_list[max_like]\n",
      "sigma_best = sigma_list[max_like]\n",
      "alpha_best = alpha_list[max_like]\n",
      "\n",
      "closure = modelo(x_data, A_best, B_best, E0_best,sigma_best, alpha_best)\n",
      "\n",
      "scatter (x_data, closure)\n",
      "plot (x_data, y_data)"
     ],
     "language": "python",
     "metadata": {},
     "outputs": [
      {
       "metadata": {},
       "output_type": "pyout",
       "prompt_number": 185,
       "text": [
        "[<matplotlib.lines.Line2D at 0x85a39d0>]"
       ]
      },
      {
       "metadata": {},
       "output_type": "display_data",
       "png": "[encoded data removed]",
       "text": [
        "<matplotlib.figure.Figure at 0x85a3710>"
       ]
      }
     ],
     "prompt_number": 185
    },
    {
     "cell_type": "code",
     "collapsed": false,
     "input": [],
     "language": "python",
     "metadata": {},
     "outputs": [],
     "prompt_number": 185
    },
    {
     "cell_type": "code",
     "collapsed": false,
     "input": [],
     "language": "python",
     "metadata": {},
     "outputs": []
    }
   ],
   "metadata": {}
  }
 ]
}